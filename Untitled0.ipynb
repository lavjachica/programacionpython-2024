{
  "nbformat": 4,
  "nbformat_minor": 0,
  "metadata": {
    "colab": {
      "provenance": [],
      "authorship_tag": "ABX9TyNGviQ6u73H6/FwwXL8qZ2E",
      "include_colab_link": true
    },
    "kernelspec": {
      "name": "python3",
      "display_name": "Python 3"
    },
    "language_info": {
      "name": "python"
    }
  },
  "cells": [
    {
      "cell_type": "markdown",
      "metadata": {
        "id": "view-in-github",
        "colab_type": "text"
      },
      "source": [
        "<a href=\"https://colab.research.google.com/github/lavjachica/programacionpython-2024/blob/main/Untitled0.ipynb\" target=\"_parent\"><img src=\"https://colab.research.google.com/assets/colab-badge.svg\" alt=\"Open In Colab\"/></a>"
      ]
    },
    {
      "cell_type": "code",
      "execution_count": 1,
      "metadata": {
        "id": "5bxg6ZIV0FUx"
      },
      "outputs": [],
      "source": [
        "import numpy as np\n"
      ]
    },
    {
      "cell_type": "code",
      "source": [
        "lista = list(range(1,11))\n",
        "lista"
      ],
      "metadata": {
        "colab": {
          "base_uri": "https://localhost:8080/"
        },
        "id": "Kn0PEJMd0wz6",
        "outputId": "0f6a86de-3de8-4c0b-c1ab-83888b4a0dd3"
      },
      "execution_count": 4,
      "outputs": [
        {
          "output_type": "execute_result",
          "data": {
            "text/plain": [
              "[1, 2, 3, 4, 5, 6, 7, 8, 9, 10]"
            ]
          },
          "metadata": {},
          "execution_count": 4
        }
      ]
    },
    {
      "cell_type": "code",
      "source": [
        "\n",
        "arreglo = np.array(lista)\n",
        "arreglo"
      ],
      "metadata": {
        "colab": {
          "base_uri": "https://localhost:8080/"
        },
        "id": "B-oc9FQP0MvM",
        "outputId": "ac85274c-86de-42e7-b26e-5fe849e83360"
      },
      "execution_count": 5,
      "outputs": [
        {
          "output_type": "execute_result",
          "data": {
            "text/plain": [
              "array([ 1,  2,  3,  4,  5,  6,  7,  8,  9, 10])"
            ]
          },
          "metadata": {},
          "execution_count": 5
        }
      ]
    },
    {
      "cell_type": "code",
      "source": [
        "type(arreglo)"
      ],
      "metadata": {
        "id": "jYPAW7_q0-rW"
      },
      "execution_count": null,
      "outputs": []
    },
    {
      "cell_type": "code",
      "source": [
        "arreglo.dtype"
      ],
      "metadata": {
        "id": "93Ll2g_k1BfO"
      },
      "execution_count": null,
      "outputs": []
    },
    {
      "cell_type": "markdown",
      "source": [
        "# definiendo un array\n"
      ],
      "metadata": {
        "id": "G9A_0BxS1oLe"
      }
    },
    {
      "cell_type": "code",
      "source": [
        "np.array(arreglo, dtype=np.float32)"
      ],
      "metadata": {
        "colab": {
          "base_uri": "https://localhost:8080/"
        },
        "id": "UilI6sOf1GUb",
        "outputId": "c2bcd59c-1610-4eed-8856-b9878e87a40c"
      },
      "execution_count": 6,
      "outputs": [
        {
          "output_type": "execute_result",
          "data": {
            "text/plain": [
              "array([ 1.,  2.,  3.,  4.,  5.,  6.,  7.,  8.,  9., 10.], dtype=float32)"
            ]
          },
          "metadata": {},
          "execution_count": 6
        }
      ]
    },
    {
      "cell_type": "markdown",
      "source": [
        "# Transformando los datos de int 32 a float 32"
      ],
      "metadata": {
        "id": "Zk2AF2dI2ACu"
      }
    },
    {
      "cell_type": "code",
      "source": [
        "arreglo.astype(np.float32)"
      ],
      "metadata": {
        "id": "_vmQi6La1j8G"
      },
      "execution_count": null,
      "outputs": []
    },
    {
      "cell_type": "markdown",
      "source": [
        "# funcion similar a range pero con arrays"
      ],
      "metadata": {
        "id": "Wb1b1VU02Sbb"
      }
    },
    {
      "cell_type": "markdown",
      "source": [],
      "metadata": {
        "id": "0hoHM-eC3hkf"
      }
    },
    {
      "cell_type": "markdown",
      "source": [
        "<font color = 'aquamarine'><b>Algunas funciones de Numpy</b></font></h4>\n",
        "\n",
        "\n",
        "\n",
        "\n",
        "\n",
        "\n",
        "\n"
      ],
      "metadata": {
        "id": "enURoo1o2haB"
      }
    },
    {
      "cell_type": "code",
      "source": [
        "arreglonuevo= np.arange(1,11,2)\n",
        "arreglonuevo"
      ],
      "metadata": {
        "id": "soaSb7O52LDI"
      },
      "execution_count": null,
      "outputs": []
    },
    {
      "cell_type": "code",
      "source": [
        "promedio = np.mean(arreglo)\n",
        "promedio"
      ],
      "metadata": {
        "colab": {
          "base_uri": "https://localhost:8080/"
        },
        "id": "kvNKXFhX3S4a",
        "outputId": "32ec8fda-40ce-4869-d88d-9fa571d71b8d"
      },
      "execution_count": 7,
      "outputs": [
        {
          "output_type": "execute_result",
          "data": {
            "text/plain": [
              "5.5"
            ]
          },
          "metadata": {},
          "execution_count": 7
        }
      ]
    },
    {
      "cell_type": "code",
      "source": [
        "mediana = np.median(arreglo)\n",
        "mediana"
      ],
      "metadata": {
        "colab": {
          "base_uri": "https://localhost:8080/"
        },
        "id": "BbN4ydux9v2U",
        "outputId": "c49433c3-ef7a-489d-e5a7-21bd22451f87"
      },
      "execution_count": 8,
      "outputs": [
        {
          "output_type": "execute_result",
          "data": {
            "text/plain": [
              "5.5"
            ]
          },
          "metadata": {},
          "execution_count": 8
        }
      ]
    },
    {
      "cell_type": "code",
      "source": [
        "desviacion_std = np.std(arreglo)\n",
        "desviacion_std"
      ],
      "metadata": {
        "id": "ySaxjoYT916o"
      },
      "execution_count": null,
      "outputs": []
    },
    {
      "cell_type": "code",
      "source": [
        "arreglo_de_ceros = np.zeros(10)\n",
        "arreglo_de_ceros"
      ],
      "metadata": {
        "id": "_ad63n3I_Gmg"
      },
      "execution_count": null,
      "outputs": []
    },
    {
      "cell_type": "code",
      "source": [
        "arreglo_de_unos= np.ones(10)\n",
        "arreglo_de_unos"
      ],
      "metadata": {
        "id": "TvfTfIO2_lMN"
      },
      "execution_count": null,
      "outputs": []
    },
    {
      "cell_type": "code",
      "source": [
        "arreglo_aleatorio = np.random.rand(10)\n",
        "arreglo_aleatorio"
      ],
      "metadata": {
        "colab": {
          "base_uri": "https://localhost:8080/"
        },
        "id": "HEDKo7D8_XFt",
        "outputId": "8d1070cf-cc94-401a-e5cb-853f2eb52105"
      },
      "execution_count": 11,
      "outputs": [
        {
          "output_type": "execute_result",
          "data": {
            "text/plain": [
              "array([0.40007301, 0.54338176, 0.80513336, 0.8051891 , 0.47368918,\n",
              "       0.00358545, 0.03654454, 0.77015308, 0.06786679, 0.59388929])"
            ]
          },
          "metadata": {},
          "execution_count": 11
        }
      ]
    },
    {
      "cell_type": "code",
      "source": [
        "arreglo_aleatorio2 = np.random.randint(1,1001,(10,10))\n",
        "arreglo_aleatorio2"
      ],
      "metadata": {
        "colab": {
          "base_uri": "https://localhost:8080/"
        },
        "id": "4GCCyAKuAdhm",
        "outputId": "883adbff-621a-49a2-f63d-755663c3479c"
      },
      "execution_count": 16,
      "outputs": [
        {
          "output_type": "execute_result",
          "data": {
            "text/plain": [
              "array([[169, 740, 414, 173, 129, 422, 347, 345, 149, 882],\n",
              "       [900, 798, 545, 362, 892, 346, 287, 197, 367, 269],\n",
              "       [301, 421,   9, 721, 325, 685, 732, 383, 672, 230],\n",
              "       [481, 912, 634, 137,  98, 766, 100, 239, 753, 146],\n",
              "       [ 25, 239, 243, 663, 692, 805, 372,  37, 270, 235],\n",
              "       [683, 219, 107, 747, 600,  78, 842, 351, 536, 721],\n",
              "       [657, 530, 499, 538, 750, 405, 808, 731, 342,  58],\n",
              "       [505, 470, 818, 677, 127, 698, 819, 210, 744, 142],\n",
              "       [223, 463, 181, 763, 670, 888, 486, 985, 804,  97],\n",
              "       [869, 735, 246, 481, 223, 682, 264, 252, 330, 636]])"
            ]
          },
          "metadata": {},
          "execution_count": 16
        }
      ]
    },
    {
      "cell_type": "markdown",
      "source": [
        "se puede ocupar no solo con arreglos, sino con tuplas, listas, etc\n"
      ],
      "metadata": {
        "id": "2Vb4SVjDAm-R"
      }
    },
    {
      "cell_type": "code",
      "source": [
        "matriz = np.random.rand(3,3)\n",
        "matriz\n"
      ],
      "metadata": {
        "colab": {
          "base_uri": "https://localhost:8080/"
        },
        "id": "vuq420bb_kyG",
        "outputId": "65a9a97d-e16a-4cda-8ef2-a3fe54c90d9c"
      },
      "execution_count": 12,
      "outputs": [
        {
          "output_type": "execute_result",
          "data": {
            "text/plain": [
              "array([[0.04689434, 0.97885865, 0.84428056],\n",
              "       [0.16135658, 0.25937783, 0.26995443],\n",
              "       [0.13518166, 0.7972822 , 0.68119586]])"
            ]
          },
          "metadata": {},
          "execution_count": 12
        }
      ]
    }
  ]
}